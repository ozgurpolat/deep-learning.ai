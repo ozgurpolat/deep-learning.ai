{
  "nbformat": 4,
  "nbformat_minor": 0,
  "metadata": {
    "accelerator": "GPU",
    "colab": {
      "name": "Copy of Course 2 - Part 4 - Lesson 4 - Notebook.ipynb",
      "provenance": [],
      "collapsed_sections": [],
      "toc_visible": true
    },
    "kernelspec": {
      "display_name": "Python 3",
      "name": "python3"
    }
  },
  "cells": [
    {
      "cell_type": "markdown",
      "metadata": {
        "colab_type": "text",
        "id": "rX8mhOLljYeM"
      },
      "source": [
        "##### Copyright 2019 The TensorFlow Authors."
      ]
    },
    {
      "cell_type": "code",
      "metadata": {
        "cellView": "form",
        "colab_type": "code",
        "id": "BZSlp3DAjdYf",
        "colab": {}
      },
      "source": [
        "#@title Licensed under the Apache License, Version 2.0 (the \"License\");\n",
        "# you may not use this file except in compliance with the License.\n",
        "# You may obtain a copy of the License at\n",
        "#\n",
        "# https://www.apache.org/licenses/LICENSE-2.0\n",
        "#\n",
        "# Unless required by applicable law or agreed to in writing, software\n",
        "# distributed under the License is distributed on an \"AS IS\" BASIS,\n",
        "# WITHOUT WARRANTIES OR CONDITIONS OF ANY KIND, either express or implied.\n",
        "# See the License for the specific language governing permissions and\n",
        "# limitations under the License."
      ],
      "execution_count": 0,
      "outputs": []
    },
    {
      "cell_type": "code",
      "metadata": {
        "colab_type": "code",
        "id": "RXZT2UsyIVe_",
        "colab": {
          "base_uri": "https://localhost:8080/",
          "height": 391
        },
        "outputId": "e298ebc9-5d9e-4cab-bf0f-42aa45883e09"
      },
      "source": [
        "!wget --no-check-certificate \\\n",
        "    https://storage.googleapis.com/laurencemoroney-blog.appspot.com/horse-or-human.zip \\\n",
        "    -O /tmp/horse-or-human.zip\n",
        "\n",
        "!wget --no-check-certificate \\\n",
        "    https://storage.googleapis.com/laurencemoroney-blog.appspot.com/validation-horse-or-human.zip \\\n",
        "    -O /tmp/validation-horse-or-human.zip\n",
        "  \n",
        "import os\n",
        "import zipfile\n",
        "\n",
        "local_zip = '/tmp/horse-or-human.zip'\n",
        "zip_ref = zipfile.ZipFile(local_zip, 'r')\n",
        "zip_ref.extractall('/tmp/horse-or-human')\n",
        "local_zip = '/tmp/validation-horse-or-human.zip'\n",
        "zip_ref = zipfile.ZipFile(local_zip, 'r')\n",
        "zip_ref.extractall('/tmp/validation-horse-or-human')\n",
        "zip_ref.close()\n",
        "# Directory with our training horse pictures\n",
        "train_horse_dir = os.path.join('/tmp/horse-or-human/horses')\n",
        "\n",
        "# Directory with our training human pictures\n",
        "train_human_dir = os.path.join('/tmp/horse-or-human/humans')\n",
        "\n",
        "# Directory with our training horse pictures\n",
        "validation_horse_dir = os.path.join('/tmp/validation-horse-or-human/horses')\n",
        "\n",
        "# Directory with our training human pictures\n",
        "validation_human_dir = os.path.join('/tmp/validation-horse-or-human/humans')"
      ],
      "execution_count": 3,
      "outputs": [
        {
          "output_type": "stream",
          "text": [
            "--2020-05-01 18:42:59--  https://storage.googleapis.com/laurencemoroney-blog.appspot.com/horse-or-human.zip\n",
            "Resolving storage.googleapis.com (storage.googleapis.com)... 172.217.218.128, 2a00:1450:4013:c00::80\n",
            "Connecting to storage.googleapis.com (storage.googleapis.com)|172.217.218.128|:443... connected.\n",
            "HTTP request sent, awaiting response... 200 OK\n",
            "Length: 149574867 (143M) [application/zip]\n",
            "Saving to: ‘/tmp/horse-or-human.zip’\n",
            "\n",
            "/tmp/horse-or-human 100%[===================>] 142.65M  68.8MB/s    in 2.1s    \n",
            "\n",
            "2020-05-01 18:43:01 (68.8 MB/s) - ‘/tmp/horse-or-human.zip’ saved [149574867/149574867]\n",
            "\n",
            "--2020-05-01 18:43:04--  https://storage.googleapis.com/laurencemoroney-blog.appspot.com/validation-horse-or-human.zip\n",
            "Resolving storage.googleapis.com (storage.googleapis.com)... 173.194.69.128, 2a00:1450:4013:c01::80\n",
            "Connecting to storage.googleapis.com (storage.googleapis.com)|173.194.69.128|:443... connected.\n",
            "HTTP request sent, awaiting response... 200 OK\n",
            "Length: 11480187 (11M) [application/zip]\n",
            "Saving to: ‘/tmp/validation-horse-or-human.zip’\n",
            "\n",
            "/tmp/validation-hor 100%[===================>]  10.95M  39.1MB/s    in 0.3s    \n",
            "\n",
            "2020-05-01 18:43:04 (39.1 MB/s) - ‘/tmp/validation-horse-or-human.zip’ saved [11480187/11480187]\n",
            "\n"
          ],
          "name": "stdout"
        }
      ]
    },
    {
      "cell_type": "markdown",
      "metadata": {
        "colab_type": "text",
        "id": "5oqBkNBJmtUv"
      },
      "source": [
        "## Building a Small Model from Scratch\n",
        "\n",
        "But before we continue, let's start defining the model:\n",
        "\n",
        "Step 1 will be to import tensorflow."
      ]
    },
    {
      "cell_type": "code",
      "metadata": {
        "colab_type": "code",
        "id": "qvfZg3LQbD-5",
        "colab": {}
      },
      "source": [
        "import tensorflow as tf"
      ],
      "execution_count": 0,
      "outputs": []
    },
    {
      "cell_type": "markdown",
      "metadata": {
        "colab_type": "text",
        "id": "BnhYCP4tdqjC"
      },
      "source": [
        "We then add convolutional layers as in the previous example, and flatten the final result to feed into the densely connected layers."
      ]
    },
    {
      "cell_type": "markdown",
      "metadata": {
        "colab_type": "text",
        "id": "gokG5HKpdtzm"
      },
      "source": [
        "Finally we add the densely connected layers. \n",
        "\n",
        "Note that because we are facing a two-class classification problem, i.e. a *binary classification problem*, we will end our network with a [*sigmoid* activation](https://wikipedia.org/wiki/Sigmoid_function), so that the output of our network will be a single scalar between 0 and 1, encoding the probability that the current image is class 1 (as opposed to class 0)."
      ]
    },
    {
      "cell_type": "code",
      "metadata": {
        "colab_type": "code",
        "id": "PixZ2s5QbYQ3",
        "colab": {}
      },
      "source": [
        "model = tf.keras.models.Sequential([\n",
        "    # Note the input shape is the desired size of the image 300x300 with 3 bytes color\n",
        "    # This is the first convolution\n",
        "    tf.keras.layers.Conv2D(16, (3,3), activation='relu', input_shape=(300, 300, 3)),\n",
        "    tf.keras.layers.MaxPooling2D(2, 2),\n",
        "    # The second convolution\n",
        "    tf.keras.layers.Conv2D(32, (3,3), activation='relu'),\n",
        "    tf.keras.layers.MaxPooling2D(2,2),\n",
        "    # The third convolution\n",
        "    tf.keras.layers.Conv2D(64, (3,3), activation='relu'),\n",
        "    tf.keras.layers.MaxPooling2D(2,2),\n",
        "    # The fourth convolution\n",
        "    tf.keras.layers.Conv2D(64, (3,3), activation='relu'),\n",
        "    tf.keras.layers.MaxPooling2D(2,2),\n",
        "    # The fifth convolution\n",
        "    tf.keras.layers.Conv2D(64, (3,3), activation='relu'),\n",
        "    tf.keras.layers.MaxPooling2D(2,2),\n",
        "    # Flatten the results to feed into a DNN\n",
        "    tf.keras.layers.Flatten(),\n",
        "    # 512 neuron hidden layer\n",
        "    tf.keras.layers.Dense(512, activation='relu'),\n",
        "    # Only 1 output neuron. It will contain a value from 0-1 where 0 for 1 class ('horses') and 1 for the other ('humans')\n",
        "    tf.keras.layers.Dense(1, activation='sigmoid')\n",
        "])"
      ],
      "execution_count": 0,
      "outputs": []
    },
    {
      "cell_type": "code",
      "metadata": {
        "colab_type": "code",
        "id": "8DHWhFP_uhq3",
        "colab": {}
      },
      "source": [
        "from tensorflow.keras.optimizers import RMSprop\n",
        "\n",
        "model.compile(loss='binary_crossentropy',\n",
        "              optimizer=RMSprop(lr=1e-4),\n",
        "              metrics=['accuracy'])"
      ],
      "execution_count": 0,
      "outputs": []
    },
    {
      "cell_type": "code",
      "metadata": {
        "colab_type": "code",
        "id": "ClebU9NJg99G",
        "colab": {
          "base_uri": "https://localhost:8080/",
          "height": 51
        },
        "outputId": "7da8b847-20c1-4711-bea2-052e20fc3aa5"
      },
      "source": [
        "from tensorflow.keras.preprocessing.image import ImageDataGenerator\n",
        "\n",
        "# All images will be rescaled by 1./255\n",
        "train_datagen = ImageDataGenerator(\n",
        "      rescale=1./255,\n",
        "      rotation_range=40,\n",
        "      width_shift_range=0.2,\n",
        "      height_shift_range=0.2,\n",
        "      shear_range=0.2,\n",
        "      zoom_range=0.2,\n",
        "      horizontal_flip=True,\n",
        "      fill_mode='nearest')\n",
        "\n",
        "validation_datagen = ImageDataGenerator(rescale=1/255)\n",
        "\n",
        "# Flow training images in batches of 128 using train_datagen generator\n",
        "train_generator = train_datagen.flow_from_directory(\n",
        "        '/tmp/horse-or-human/',  # This is the source directory for training images\n",
        "        target_size=(300, 300),  # All images will be resized to 150x150\n",
        "        batch_size=128,\n",
        "        # Since we use binary_crossentropy loss, we need binary labels\n",
        "        class_mode='binary')\n",
        "\n",
        "# Flow training images in batches of 128 using train_datagen generator\n",
        "validation_generator = validation_datagen.flow_from_directory(\n",
        "        '/tmp/validation-horse-or-human/',  # This is the source directory for training images\n",
        "        target_size=(300, 300),  # All images will be resized to 150x150\n",
        "        batch_size=32,\n",
        "        # Since we use binary_crossentropy loss, we need binary labels\n",
        "        class_mode='binary')"
      ],
      "execution_count": 7,
      "outputs": [
        {
          "output_type": "stream",
          "text": [
            "Found 1027 images belonging to 2 classes.\n",
            "Found 256 images belonging to 2 classes.\n"
          ],
          "name": "stdout"
        }
      ]
    },
    {
      "cell_type": "code",
      "metadata": {
        "colab_type": "code",
        "id": "Fb1_lgobv81m",
        "colab": {
          "base_uri": "https://localhost:8080/",
          "height": 1000
        },
        "outputId": "288ebd86-8091-4a43-a727-d8454fb0211f"
      },
      "source": [
        "history = model.fit(\n",
        "      train_generator,\n",
        "      steps_per_epoch=8,  \n",
        "      epochs=100,\n",
        "      verbose=1,\n",
        "      validation_data = validation_generator,\n",
        "      validation_steps=8)"
      ],
      "execution_count": 8,
      "outputs": [
        {
          "output_type": "stream",
          "text": [
            "Epoch 1/100\n",
            "8/8 [==============================] - 21s 3s/step - loss: 0.6853 - accuracy: 0.5684 - val_loss: 0.6935 - val_accuracy: 0.5000\n",
            "Epoch 2/100\n",
            "8/8 [==============================] - 23s 3s/step - loss: 0.6801 - accuracy: 0.6073 - val_loss: 0.7002 - val_accuracy: 0.4922\n",
            "Epoch 3/100\n",
            "8/8 [==============================] - 20s 3s/step - loss: 0.6448 - accuracy: 0.6741 - val_loss: 0.5877 - val_accuracy: 0.7109\n",
            "Epoch 4/100\n",
            "8/8 [==============================] - 20s 3s/step - loss: 0.6268 - accuracy: 0.6885 - val_loss: 0.6055 - val_accuracy: 0.5781\n",
            "Epoch 5/100\n",
            "8/8 [==============================] - 20s 3s/step - loss: 0.6160 - accuracy: 0.7275 - val_loss: 0.5814 - val_accuracy: 0.6602\n",
            "Epoch 6/100\n",
            "8/8 [==============================] - 20s 3s/step - loss: 0.5520 - accuracy: 0.6974 - val_loss: 0.6725 - val_accuracy: 0.5664\n",
            "Epoch 7/100\n",
            "8/8 [==============================] - 20s 3s/step - loss: 0.5411 - accuracy: 0.7108 - val_loss: 0.5849 - val_accuracy: 0.6523\n",
            "Epoch 8/100\n",
            "8/8 [==============================] - 20s 2s/step - loss: 0.5999 - accuracy: 0.7319 - val_loss: 0.6078 - val_accuracy: 0.6406\n",
            "Epoch 9/100\n",
            "8/8 [==============================] - 20s 2s/step - loss: 0.5266 - accuracy: 0.7864 - val_loss: 0.6591 - val_accuracy: 0.6328\n",
            "Epoch 10/100\n",
            "8/8 [==============================] - 22s 3s/step - loss: 0.5045 - accuracy: 0.7617 - val_loss: 0.9747 - val_accuracy: 0.5469\n",
            "Epoch 11/100\n",
            "8/8 [==============================] - 23s 3s/step - loss: 0.4968 - accuracy: 0.7608 - val_loss: 1.2802 - val_accuracy: 0.5391\n",
            "Epoch 12/100\n",
            "8/8 [==============================] - 20s 2s/step - loss: 0.4463 - accuracy: 0.7742 - val_loss: 1.0941 - val_accuracy: 0.5586\n",
            "Epoch 13/100\n",
            "8/8 [==============================] - 20s 2s/step - loss: 0.4897 - accuracy: 0.7731 - val_loss: 0.6893 - val_accuracy: 0.6797\n",
            "Epoch 14/100\n",
            "8/8 [==============================] - 20s 2s/step - loss: 0.4440 - accuracy: 0.7664 - val_loss: 1.1238 - val_accuracy: 0.5625\n",
            "Epoch 15/100\n",
            "8/8 [==============================] - 20s 2s/step - loss: 0.4973 - accuracy: 0.7731 - val_loss: 0.7167 - val_accuracy: 0.6719\n",
            "Epoch 16/100\n",
            "8/8 [==============================] - 20s 2s/step - loss: 0.5099 - accuracy: 0.7709 - val_loss: 0.8710 - val_accuracy: 0.6094\n",
            "Epoch 17/100\n",
            "8/8 [==============================] - 20s 2s/step - loss: 0.4405 - accuracy: 0.8065 - val_loss: 0.8668 - val_accuracy: 0.6367\n",
            "Epoch 18/100\n",
            "8/8 [==============================] - 20s 2s/step - loss: 0.3914 - accuracy: 0.8165 - val_loss: 0.3113 - val_accuracy: 0.8672\n",
            "Epoch 19/100\n",
            "8/8 [==============================] - 22s 3s/step - loss: 0.4490 - accuracy: 0.7900 - val_loss: 1.6364 - val_accuracy: 0.5469\n",
            "Epoch 20/100\n",
            "8/8 [==============================] - 22s 3s/step - loss: 0.4419 - accuracy: 0.7809 - val_loss: 0.7459 - val_accuracy: 0.6992\n",
            "Epoch 21/100\n",
            "8/8 [==============================] - 19s 2s/step - loss: 0.3537 - accuracy: 0.8343 - val_loss: 0.7039 - val_accuracy: 0.7422\n",
            "Epoch 22/100\n",
            "8/8 [==============================] - 19s 2s/step - loss: 0.4609 - accuracy: 0.7742 - val_loss: 1.1908 - val_accuracy: 0.6250\n",
            "Epoch 23/100\n",
            "8/8 [==============================] - 19s 2s/step - loss: 0.3714 - accuracy: 0.8298 - val_loss: 1.2689 - val_accuracy: 0.6055\n",
            "Epoch 24/100\n",
            "8/8 [==============================] - 19s 2s/step - loss: 0.4425 - accuracy: 0.8042 - val_loss: 1.0222 - val_accuracy: 0.6523\n",
            "Epoch 25/100\n",
            "8/8 [==============================] - 19s 2s/step - loss: 0.3953 - accuracy: 0.8521 - val_loss: 1.0522 - val_accuracy: 0.6602\n",
            "Epoch 26/100\n",
            "8/8 [==============================] - 19s 2s/step - loss: 0.3377 - accuracy: 0.8621 - val_loss: 1.4074 - val_accuracy: 0.6250\n",
            "Epoch 27/100\n",
            "8/8 [==============================] - 19s 2s/step - loss: 0.3694 - accuracy: 0.8154 - val_loss: 1.4612 - val_accuracy: 0.5938\n",
            "Epoch 28/100\n",
            "8/8 [==============================] - 21s 3s/step - loss: 0.3440 - accuracy: 0.8555 - val_loss: 0.8272 - val_accuracy: 0.7422\n",
            "Epoch 29/100\n",
            "8/8 [==============================] - 22s 3s/step - loss: 0.3490 - accuracy: 0.8398 - val_loss: 1.3794 - val_accuracy: 0.6289\n",
            "Epoch 30/100\n",
            "8/8 [==============================] - 20s 2s/step - loss: 0.3743 - accuracy: 0.8343 - val_loss: 1.5520 - val_accuracy: 0.6016\n",
            "Epoch 31/100\n",
            "8/8 [==============================] - 19s 2s/step - loss: 0.3515 - accuracy: 0.8632 - val_loss: 1.6108 - val_accuracy: 0.5664\n",
            "Epoch 32/100\n",
            "8/8 [==============================] - 19s 2s/step - loss: 0.2936 - accuracy: 0.8821 - val_loss: 1.7635 - val_accuracy: 0.5898\n",
            "Epoch 33/100\n",
            "8/8 [==============================] - 20s 2s/step - loss: 0.3513 - accuracy: 0.8409 - val_loss: 0.7413 - val_accuracy: 0.7422\n",
            "Epoch 34/100\n",
            "8/8 [==============================] - 20s 2s/step - loss: 0.3758 - accuracy: 0.8309 - val_loss: 1.7606 - val_accuracy: 0.5781\n",
            "Epoch 35/100\n",
            "8/8 [==============================] - 19s 2s/step - loss: 0.3219 - accuracy: 0.8687 - val_loss: 1.6339 - val_accuracy: 0.5938\n",
            "Epoch 36/100\n",
            "8/8 [==============================] - 19s 2s/step - loss: 0.2638 - accuracy: 0.8821 - val_loss: 1.5187 - val_accuracy: 0.6797\n",
            "Epoch 37/100\n",
            "8/8 [==============================] - 22s 3s/step - loss: 0.2811 - accuracy: 0.8848 - val_loss: 1.5383 - val_accuracy: 0.6328\n",
            "Epoch 38/100\n",
            "8/8 [==============================] - 23s 3s/step - loss: 0.2905 - accuracy: 0.8565 - val_loss: 1.8208 - val_accuracy: 0.5977\n",
            "Epoch 39/100\n",
            "8/8 [==============================] - 19s 2s/step - loss: 0.2666 - accuracy: 0.8710 - val_loss: 1.2974 - val_accuracy: 0.6875\n",
            "Epoch 40/100\n",
            "8/8 [==============================] - 19s 2s/step - loss: 0.2431 - accuracy: 0.8899 - val_loss: 2.7762 - val_accuracy: 0.5195\n",
            "Epoch 41/100\n",
            "8/8 [==============================] - 19s 2s/step - loss: 0.3574 - accuracy: 0.8432 - val_loss: 1.2728 - val_accuracy: 0.6719\n",
            "Epoch 42/100\n",
            "8/8 [==============================] - 19s 2s/step - loss: 0.3780 - accuracy: 0.8565 - val_loss: 1.3194 - val_accuracy: 0.6406\n",
            "Epoch 43/100\n",
            "8/8 [==============================] - 19s 2s/step - loss: 0.2971 - accuracy: 0.8899 - val_loss: 1.8471 - val_accuracy: 0.5977\n",
            "Epoch 44/100\n",
            "8/8 [==============================] - 19s 2s/step - loss: 0.3532 - accuracy: 0.8654 - val_loss: 1.7046 - val_accuracy: 0.6289\n",
            "Epoch 45/100\n",
            "8/8 [==============================] - 19s 2s/step - loss: 0.3614 - accuracy: 0.8966 - val_loss: 1.7851 - val_accuracy: 0.6250\n",
            "Epoch 46/100\n",
            "8/8 [==============================] - 21s 3s/step - loss: 0.2724 - accuracy: 0.8877 - val_loss: 2.3507 - val_accuracy: 0.5391\n",
            "Epoch 47/100\n",
            "8/8 [==============================] - 22s 3s/step - loss: 0.4019 - accuracy: 0.8509 - val_loss: 1.2880 - val_accuracy: 0.6680\n",
            "Epoch 48/100\n",
            "8/8 [==============================] - 19s 2s/step - loss: 0.3094 - accuracy: 0.8899 - val_loss: 1.9629 - val_accuracy: 0.5898\n",
            "Epoch 49/100\n",
            "8/8 [==============================] - 19s 2s/step - loss: 0.3650 - accuracy: 0.8687 - val_loss: 1.3837 - val_accuracy: 0.6445\n",
            "Epoch 50/100\n",
            "8/8 [==============================] - 19s 2s/step - loss: 0.3613 - accuracy: 0.8776 - val_loss: 1.3981 - val_accuracy: 0.6367\n",
            "Epoch 51/100\n",
            "8/8 [==============================] - 19s 2s/step - loss: 0.2929 - accuracy: 0.8721 - val_loss: 2.0125 - val_accuracy: 0.5859\n",
            "Epoch 52/100\n",
            "8/8 [==============================] - 19s 2s/step - loss: 0.2405 - accuracy: 0.9010 - val_loss: 1.1168 - val_accuracy: 0.7188\n",
            "Epoch 53/100\n",
            "8/8 [==============================] - 19s 2s/step - loss: 0.2213 - accuracy: 0.9177 - val_loss: 2.5786 - val_accuracy: 0.5469\n",
            "Epoch 54/100\n",
            "8/8 [==============================] - 19s 2s/step - loss: 0.2208 - accuracy: 0.9043 - val_loss: 0.9500 - val_accuracy: 0.7695\n",
            "Epoch 55/100\n",
            "8/8 [==============================] - 21s 3s/step - loss: 0.2952 - accuracy: 0.8721 - val_loss: 1.2434 - val_accuracy: 0.7070\n",
            "Epoch 56/100\n",
            "8/8 [==============================] - 22s 3s/step - loss: 0.2991 - accuracy: 0.8732 - val_loss: 1.6776 - val_accuracy: 0.6367\n",
            "Epoch 57/100\n",
            "8/8 [==============================] - 19s 2s/step - loss: 0.2976 - accuracy: 0.8910 - val_loss: 1.6178 - val_accuracy: 0.6523\n",
            "Epoch 58/100\n",
            "8/8 [==============================] - 19s 2s/step - loss: 0.1991 - accuracy: 0.9244 - val_loss: 2.3010 - val_accuracy: 0.6133\n",
            "Epoch 59/100\n",
            "8/8 [==============================] - 19s 2s/step - loss: 0.2195 - accuracy: 0.9177 - val_loss: 2.7425 - val_accuracy: 0.5430\n",
            "Epoch 60/100\n",
            "8/8 [==============================] - 19s 2s/step - loss: 0.2796 - accuracy: 0.8687 - val_loss: 1.4384 - val_accuracy: 0.6836\n",
            "Epoch 61/100\n",
            "8/8 [==============================] - 19s 2s/step - loss: 0.2058 - accuracy: 0.9143 - val_loss: 3.3880 - val_accuracy: 0.5117\n",
            "Epoch 62/100\n",
            "8/8 [==============================] - 19s 2s/step - loss: 0.2198 - accuracy: 0.9055 - val_loss: 2.2906 - val_accuracy: 0.6172\n",
            "Epoch 63/100\n",
            "8/8 [==============================] - 18s 2s/step - loss: 0.3310 - accuracy: 0.8865 - val_loss: 2.6497 - val_accuracy: 0.5312\n",
            "Epoch 64/100\n",
            "8/8 [==============================] - 21s 3s/step - loss: 0.2041 - accuracy: 0.9160 - val_loss: 1.8053 - val_accuracy: 0.6484\n",
            "Epoch 65/100\n",
            "8/8 [==============================] - 21s 3s/step - loss: 0.2240 - accuracy: 0.8977 - val_loss: 1.7944 - val_accuracy: 0.6406\n",
            "Epoch 66/100\n",
            "8/8 [==============================] - 19s 2s/step - loss: 0.3249 - accuracy: 0.8910 - val_loss: 2.0384 - val_accuracy: 0.6328\n",
            "Epoch 67/100\n",
            "8/8 [==============================] - 19s 2s/step - loss: 0.1669 - accuracy: 0.9333 - val_loss: 1.6241 - val_accuracy: 0.6875\n",
            "Epoch 68/100\n",
            "8/8 [==============================] - 19s 2s/step - loss: 0.2404 - accuracy: 0.8888 - val_loss: 1.5459 - val_accuracy: 0.6758\n",
            "Epoch 69/100\n",
            "8/8 [==============================] - 18s 2s/step - loss: 0.3551 - accuracy: 0.8687 - val_loss: 2.4017 - val_accuracy: 0.5859\n",
            "Epoch 70/100\n",
            "8/8 [==============================] - 18s 2s/step - loss: 0.1860 - accuracy: 0.9232 - val_loss: 1.7832 - val_accuracy: 0.6758\n",
            "Epoch 71/100\n",
            "8/8 [==============================] - 18s 2s/step - loss: 0.2208 - accuracy: 0.9088 - val_loss: 1.7093 - val_accuracy: 0.6406\n",
            "Epoch 72/100\n",
            "8/8 [==============================] - 18s 2s/step - loss: 0.2153 - accuracy: 0.9255 - val_loss: 5.4096 - val_accuracy: 0.4805\n",
            "Epoch 73/100\n",
            "8/8 [==============================] - 21s 3s/step - loss: 0.2393 - accuracy: 0.9072 - val_loss: 2.1128 - val_accuracy: 0.6328\n",
            "Epoch 74/100\n",
            "8/8 [==============================] - 21s 3s/step - loss: 0.1807 - accuracy: 0.9299 - val_loss: 2.3264 - val_accuracy: 0.6211\n",
            "Epoch 75/100\n",
            "8/8 [==============================] - 18s 2s/step - loss: 0.2583 - accuracy: 0.9032 - val_loss: 2.3669 - val_accuracy: 0.6211\n",
            "Epoch 76/100\n",
            "8/8 [==============================] - 18s 2s/step - loss: 0.1667 - accuracy: 0.9255 - val_loss: 1.9553 - val_accuracy: 0.6445\n",
            "Epoch 77/100\n",
            "8/8 [==============================] - 19s 2s/step - loss: 0.1500 - accuracy: 0.9455 - val_loss: 3.2477 - val_accuracy: 0.5469\n",
            "Epoch 78/100\n",
            "8/8 [==============================] - 18s 2s/step - loss: 0.1669 - accuracy: 0.9288 - val_loss: 1.3929 - val_accuracy: 0.7188\n",
            "Epoch 79/100\n",
            "8/8 [==============================] - 18s 2s/step - loss: 0.1967 - accuracy: 0.9155 - val_loss: 1.8074 - val_accuracy: 0.6758\n",
            "Epoch 80/100\n",
            "8/8 [==============================] - 19s 2s/step - loss: 0.1533 - accuracy: 0.9321 - val_loss: 2.0116 - val_accuracy: 0.6562\n",
            "Epoch 81/100\n",
            "8/8 [==============================] - 19s 2s/step - loss: 0.2124 - accuracy: 0.9088 - val_loss: 6.6826 - val_accuracy: 0.5000\n",
            "Epoch 82/100\n",
            "8/8 [==============================] - 21s 3s/step - loss: 0.3084 - accuracy: 0.8916 - val_loss: 2.0745 - val_accuracy: 0.6602\n",
            "Epoch 83/100\n",
            "8/8 [==============================] - 22s 3s/step - loss: 0.1669 - accuracy: 0.9288 - val_loss: 3.3066 - val_accuracy: 0.5508\n",
            "Epoch 84/100\n",
            "8/8 [==============================] - 19s 2s/step - loss: 0.2053 - accuracy: 0.9088 - val_loss: 2.0083 - val_accuracy: 0.6289\n",
            "Epoch 85/100\n",
            "8/8 [==============================] - 19s 2s/step - loss: 0.1361 - accuracy: 0.9466 - val_loss: 1.7380 - val_accuracy: 0.7070\n",
            "Epoch 86/100\n",
            "8/8 [==============================] - 19s 2s/step - loss: 0.2115 - accuracy: 0.9132 - val_loss: 1.3348 - val_accuracy: 0.7305\n",
            "Epoch 87/100\n",
            "8/8 [==============================] - 19s 2s/step - loss: 0.1651 - accuracy: 0.9221 - val_loss: 3.3704 - val_accuracy: 0.5469\n",
            "Epoch 88/100\n",
            "8/8 [==============================] - 19s 2s/step - loss: 0.3397 - accuracy: 0.8877 - val_loss: 2.4205 - val_accuracy: 0.6250\n",
            "Epoch 89/100\n",
            "8/8 [==============================] - 19s 2s/step - loss: 0.2078 - accuracy: 0.9310 - val_loss: 1.9224 - val_accuracy: 0.6367\n",
            "Epoch 90/100\n",
            "8/8 [==============================] - 19s 2s/step - loss: 0.1625 - accuracy: 0.9244 - val_loss: 2.3232 - val_accuracy: 0.6367\n",
            "Epoch 91/100\n",
            "8/8 [==============================] - 21s 3s/step - loss: 0.1447 - accuracy: 0.9424 - val_loss: 2.3072 - val_accuracy: 0.6367\n",
            "Epoch 92/100\n",
            "8/8 [==============================] - 22s 3s/step - loss: 0.3552 - accuracy: 0.8765 - val_loss: 1.9907 - val_accuracy: 0.6680\n",
            "Epoch 93/100\n",
            "8/8 [==============================] - 19s 2s/step - loss: 0.1277 - accuracy: 0.9511 - val_loss: 2.3907 - val_accuracy: 0.6250\n",
            "Epoch 94/100\n",
            "8/8 [==============================] - 19s 2s/step - loss: 0.1294 - accuracy: 0.9377 - val_loss: 2.3654 - val_accuracy: 0.6406\n",
            "Epoch 95/100\n",
            "8/8 [==============================] - 19s 2s/step - loss: 0.1188 - accuracy: 0.9555 - val_loss: 3.9096 - val_accuracy: 0.5195\n",
            "Epoch 96/100\n",
            "8/8 [==============================] - 19s 2s/step - loss: 0.1838 - accuracy: 0.9143 - val_loss: 1.0050 - val_accuracy: 0.7695\n",
            "Epoch 97/100\n",
            "8/8 [==============================] - 19s 2s/step - loss: 0.1539 - accuracy: 0.9388 - val_loss: 2.0569 - val_accuracy: 0.6758\n",
            "Epoch 98/100\n",
            "8/8 [==============================] - 19s 2s/step - loss: 0.1881 - accuracy: 0.9288 - val_loss: 5.6561 - val_accuracy: 0.4922\n",
            "Epoch 99/100\n",
            "8/8 [==============================] - 19s 2s/step - loss: 0.2331 - accuracy: 0.8988 - val_loss: 4.0346 - val_accuracy: 0.5273\n",
            "Epoch 100/100\n",
            "8/8 [==============================] - 21s 3s/step - loss: 0.1590 - accuracy: 0.9346 - val_loss: 2.3321 - val_accuracy: 0.6445\n"
          ],
          "name": "stdout"
        }
      ]
    },
    {
      "cell_type": "code",
      "metadata": {
        "colab_type": "code",
        "id": "7zNPRWOVJdOH",
        "colab": {
          "base_uri": "https://localhost:8080/",
          "height": 545
        },
        "outputId": "a271652c-2d86-495f-bb46-864f6e7d342d"
      },
      "source": [
        "import matplotlib.pyplot as plt\n",
        "acc = history.history['accuracy']\n",
        "val_acc = history.history['val_accuracy']\n",
        "loss = history.history['loss']\n",
        "val_loss = history.history['val_loss']\n",
        "\n",
        "epochs = range(len(acc))\n",
        "\n",
        "plt.plot(epochs, acc, 'r', label='Training accuracy')\n",
        "plt.plot(epochs, val_acc, 'b', label='Validation accuracy')\n",
        "plt.grid()\n",
        "plt.title('Training and validation accuracy')\n",
        "plt.legend()\n",
        "plt.figure()\n",
        "\n",
        "plt.plot(epochs, loss, 'r', label='Training Loss')\n",
        "plt.plot(epochs, val_loss, 'b', label='Validation Loss')\n",
        "plt.grid()\n",
        "plt.title('Training and validation loss')\n",
        "plt.legend()\n",
        "\n",
        "plt.show()"
      ],
      "execution_count": 16,
      "outputs": [
        {
          "output_type": "display_data",
          "data": {
            "image/png": "[encoded data removed]",
            "text/plain": [
              "<Figure size 432x288 with 1 Axes>"
            ]
          },
          "metadata": {
            "tags": [],
            "needs_background": "light"
          }
        },
        {
          "output_type": "display_data",
          "data": {
            "image/png": "[encoded data removed]",
            "text/plain": [
              "<Figure size 432x288 with 1 Axes>"
            ]
          },
          "metadata": {
            "tags": [],
            "needs_background": "light"
          }
        }
      ]
    },
    {
      "cell_type": "code",
      "metadata": {
        "id": "J8p6OwCpsgPX",
        "colab_type": "code",
        "colab": {}
      },
      "source": [
        ""
      ],
      "execution_count": 0,
      "outputs": []
    }
  ]
}